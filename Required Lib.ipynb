{
 "cells": [
  {
   "cell_type": "markdown",
   "metadata": {},
   "source": [
    "1. [Jupter Notebook](http://jupyter.org/)\n",
    "2. [Pytorch](https://pytorch.org/docs/0.3.1/)\n",
    "3. [Numpy](http://www.numpy.org/)\n",
    "4. [Matplotlib](https://matplotlib.org/index.html)\n",
    "5. [Scikit-image](http://scikit-image.org/)\n",
    "6. [Scipy](https://www.scipy.org/)\n",
    "7. [tqdm](https://github.com/tqdm/tqdm)"
   ]
  }
 ],
 "metadata": {
  "kernelspec": {
   "display_name": "Python 3",
   "language": "python",
   "name": "python3"
  },
  "language_info": {
   "codemirror_mode": {
    "name": "ipython",
    "version": 3
   },
   "file_extension": ".py",
   "mimetype": "text/x-python",
   "name": "python",
   "nbconvert_exporter": "python",
   "pygments_lexer": "ipython3",
   "version": "3.6.5"
  }
 },
 "nbformat": 4,
 "nbformat_minor": 2
}
