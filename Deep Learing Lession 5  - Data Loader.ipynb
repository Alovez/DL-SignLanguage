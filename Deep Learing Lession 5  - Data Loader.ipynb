{
 "cells": [
  {
   "cell_type": "code",
   "execution_count": 1,
   "metadata": {},
   "outputs": [
    {
     "name": "stderr",
     "output_type": "stream",
     "text": [
      "D:\\UserApp\\Anaconda\\lib\\site-packages\\skimage\\transform\\_warps.py:84: UserWarning: The default mode, 'constant', will be changed to 'reflect' in skimage 0.15.\n",
      "  warn(\"The default mode, 'constant', will be changed to 'reflect' in \"\n"
     ]
    },
    {
     "data": {
      "text/plain": [
       "<matplotlib.figure.Figure at 0x1e4af0f7518>"
      ]
     },
     "metadata": {},
     "output_type": "display_data"
    }
   ],
   "source": [
    "from skimage import transform,data\n",
    "import matplotlib.pyplot as plt\n",
    "import numpy as np\n",
    "import os\n",
    "\n",
    "\n",
    "PATH = './Dataset/'\n",
    "\n",
    "FILE_LIST = os.listdir(PATH)\n",
    "\n",
    "X = []\n",
    "Y = []\n",
    "\n",
    "def rgb2gray(rgb):\n",
    "    return np.dot(rgb[...,:3], [0.299, 0.587, 0.114])\n",
    "\n",
    "\n",
    "for dir in FILE_LIST:\n",
    "    for file in os.listdir(f\"{PATH}{dir}\"):\n",
    "        Y.append(dir)\n",
    "        x = transform.resize(rgb2gray(plt.imread(f\"{PATH}{dir}/{file}\")), (64, 64))\n",
    "        X.append(x)\n",
    "        \n",
    "plt.imshow(X[0])\n",
    "\n",
    "plt.show()\n",
    "\n",
    "X = np.array(X)\n",
    "Y = np.array(Y)"
   ]
  },
  {
   "cell_type": "code",
   "execution_count": 2,
   "metadata": {},
   "outputs": [
    {
     "name": "stdout",
     "output_type": "stream",
     "text": [
      "(1650, 64, 64)\n",
      "(1650,)\n",
      "(412, 64, 64)\n",
      "(412,)\n"
     ]
    }
   ],
   "source": [
    "def split_train_test_data(x_data, y_data, test_size):\n",
    "    indices = random.sample(range(len(x_data)), test_size)\n",
    "    test_x_data = []\n",
    "    for i in indices:\n",
    "        test_x_data.append(x_data[i])\n",
    "    test_y_data = y_data.take(indices)\n",
    "    x_data = np.delete(x_data, indices, axis=0)\n",
    "    y_data = np.delete(y_data, indices)\n",
    "    return x_data, y_data, np.array(test_x_data), test_y_data\n",
    "\n",
    "train_x, train_y, test_x, test_y = split_train_test_data(X, Y, int(len(Y) * 0.2))\n",
    "\n",
    "print(train_x.shape)\n",
    "print(train_y.shape)\n",
    "print(test_x.shape)\n",
    "print(test_y.shape)"
   ]
  },
  {
   "cell_type": "code",
   "execution_count": null,
   "metadata": {},
   "outputs": [],
   "source": []
  }
 ],
 "metadata": {
  "kernelspec": {
   "display_name": "Python 3",
   "language": "python",
   "name": "python3"
  },
  "language_info": {
   "codemirror_mode": {
    "name": "ipython",
    "version": 3
   },
   "file_extension": ".py",
   "mimetype": "text/x-python",
   "name": "python",
   "nbconvert_exporter": "python",
   "pygments_lexer": "ipython3",
   "version": "3.6.4"
  }
 },
 "nbformat": 4,
 "nbformat_minor": 2
}
